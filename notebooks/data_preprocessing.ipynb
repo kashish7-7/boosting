{
 "cells": [
  {
   "cell_type": "code",
   "execution_count": null,
   "id": "9484d944",
   "metadata": {
    "vscode": {
     "languageId": "plaintext"
    }
   },
   "outputs": [],
   "source": [
    "import pandas as pd\n",
    "\n",
    "df = pd.read_csv(\"data/creditcard.csv\")\n",
    "df.head()"
   ]
  }
 ],
 "metadata": {
  "language_info": {
   "name": "python"
  }
 },
 "nbformat": 4,
 "nbformat_minor": 5
}
